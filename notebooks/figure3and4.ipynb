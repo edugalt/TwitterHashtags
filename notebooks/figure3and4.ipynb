{
 "cells": [
  {
   "cell_type": "markdown",
   "metadata": {},
   "source": [
    "# Figure 3 and 4\n",
    "\n",
    "The data needed to reproduce this figure is computed from the raw data by running the Notebook \"aggregate_data.ipynb\", which saves cumulative and randomised data to \"Data/Cumulative\" and \"Data/Randomised\" folders.\n"
   ]
  },
  {
   "cell_type": "markdown",
   "metadata": {},
   "source": [
    "Plot for Heaps' Law and Taylor's Law. We use the type and token count for the temporally ordered cumulative and randomised cumulative data in the \"output\" folder. "
   ]
  },
  {
   "cell_type": "code",
   "execution_count": 1,
   "metadata": {},
   "outputs": [],
   "source": [
    "import os, sys, codecs\n",
    "import numpy as np\n",
    "import pylab as plt\n",
    "%matplotlib inline\n",
    "%load_ext autoreload\n",
    "%autoreload 2\n",
    "\n",
    "import matplotlib.cm as cm\n",
    "import gzip\n",
    "import pandas as pd"
   ]
  },
  {
   "cell_type": "code",
   "execution_count": 2,
   "metadata": {},
   "outputs": [],
   "source": [
    "sys.path.append(os.path.abspath(os.path.join(os.pardir,'src')))\n",
    "\n",
    "from modules_distributor import fit\n",
    "from general import *"
   ]
  },
  {
   "cell_type": "code",
   "execution_count": 3,
   "metadata": {},
   "outputs": [],
   "source": [
    "# Function extracts the pre-computed hashtag type token counts from the \"output\" folder. The\n",
    "# argument path points to the file path for the \"output\" folder. start_list and given_intervals\n",
    "# are arguments provided in the \"aggregate_data.ipynb\" notebook. The output is two arrays, one for\n",
    "# types and one for tokens. Each row in the array corresponds to different starting positions and\n",
    "# each column corresponds to a different bin size.\n",
    "\n",
    "def get_token_type_array(path, start_list, given_intervals):\n",
    "    types_array = np.empty([len(start_list), len(given_intervals)-1]) \n",
    "    tokens_array = np.empty([len(start_list), len(given_intervals)-1]) \n",
    "\n",
    "    for i in range(len(start_list)):\n",
    "        start = start_list[i]\n",
    "\n",
    "        f_in = \"types_tokens_count_start_\" + str(start) + \".txt\"\n",
    "        f = open(path + f_in, \"r\")\n",
    "        contents = f.read()\n",
    "        f.close()\n",
    "\n",
    "        res_list_temp = contents.split(\"\\n\")\n",
    "\n",
    "        for j in range(len(res_list_temp)-1): # last element is empty, we cannot split it by \",\"\n",
    "            split_result = res_list_temp[j].split(\",\")\n",
    "            types_array[i, j]  = int(split_result[0])\n",
    "            tokens_array[i, j] = int(split_result[1])\n",
    "            \n",
    "    return((tokens_array, types_array))"
   ]
  },
  {
   "cell_type": "code",
   "execution_count": 4,
   "metadata": {},
   "outputs": [],
   "source": [
    "# Function that computes the standard deviation of hashtag type and token counts for different\n",
    "# bin sizes. The input is the tokens and types array produced by get_token_type_array(). The\n",
    "# output is 4 vectors corresponding to the mean and the standard deviation for the number of \n",
    "# types and tokens in each bin size.\n",
    "\n",
    "def get_tokens_types_avg_std(tokens_array, types_array):\n",
    "    tokens_avg = []\n",
    "    tokens_std = []\n",
    "    types_avg = []\n",
    "    types_std = []\n",
    "    \n",
    "    for i in range(tokens_array.shape[1]): # iterating over the columns of the input arrays\n",
    "        tokens_avg.append(np.mean(tokens_array[:,i]))\n",
    "        tokens_std.append(np.std(tokens_array[:,i], ddof=1))\n",
    "        types_avg.append(np.mean(types_array[:,i]))\n",
    "        types_std.append(np.std(types_array[:,i], ddof=1))\n",
    "        \n",
    "    return((tokens_avg, tokens_std, types_avg, types_std)) # return a tuple"
   ]
  },
  {
   "cell_type": "markdown",
   "metadata": {},
   "source": [
    "We will take random samples of 1, 2, 4 minutes, etc and calculate the number of tokens and types in each of these time intervals. We average this value and find the standard deviation (for both the tokens and types)."
   ]
  },
  {
   "cell_type": "markdown",
   "metadata": {},
   "source": [
    "  "
   ]
  },
  {
   "cell_type": "markdown",
   "metadata": {},
   "source": [
    "Minutes"
   ]
  },
  {
   "cell_type": "code",
   "execution_count": 5,
   "metadata": {},
   "outputs": [],
   "source": [
    "twitter_min_path = \"../hashtags_frequency_minutes/\"\n",
    "files_min = get_zipped_files(twitter_min_path, \".gz\")\n",
    "num_of_files = len(files_min)"
   ]
  },
  {
   "cell_type": "code",
   "execution_count": 6,
   "metadata": {},
   "outputs": [],
   "source": [
    "path_in = '../output/Cumulative/min/'\n",
    "\n",
    "start_list = list(range(3000, num_of_files, 3000))\n",
    "given_intervals = np.concatenate(([0], np.power(2, range(10))))\n",
    "\n",
    "token_type_tuple_min = get_token_type_array(path_in, start_list, given_intervals)\n",
    "\n",
    "tokens_array_min = token_type_tuple_min[0]\n",
    "types_array_min = token_type_tuple_min[1]\n",
    "\n",
    "avg_std_min_tuple = get_tokens_types_avg_std(tokens_array_min, types_array_min)"
   ]
  },
  {
   "cell_type": "code",
   "execution_count": 7,
   "metadata": {},
   "outputs": [],
   "source": [
    "tokens_min_avg = avg_std_min_tuple[0]\n",
    "tokens_min_std = avg_std_min_tuple[1]\n",
    "types_min_avg = avg_std_min_tuple[2]\n",
    "types_min_std = avg_std_min_tuple[3]"
   ]
  },
  {
   "cell_type": "markdown",
   "metadata": {},
   "source": [
    "Hour"
   ]
  },
  {
   "cell_type": "code",
   "execution_count": 11,
   "metadata": {},
   "outputs": [],
   "source": [
    "twitter_hour_path = \"../hashtags_frequency_day/\"\n",
    "files_hour = get_zipped_files(twitter_hour_path, \".gz\")\n",
    "num_of_files = len(files_hour)"
   ]
  },
  {
   "cell_type": "code",
   "execution_count": 12,
   "metadata": {},
   "outputs": [],
   "source": [
    "path_in = '../output/Cumulative/hour/'\n",
    "\n",
    "start_list = list(range(1000, num_of_files, 1000))\n",
    "given_intervals = np.concatenate(([0], np.power(2, range(0, 8))))\n",
    "\n",
    "token_type_tuple_hour = get_token_type_array(path_in, start_list, given_intervals)\n",
    "\n",
    "tokens_array_hour= token_type_tuple_hour[0]\n",
    "types_array_hour = token_type_tuple_hour[1]\n",
    "\n",
    "avg_std_hour_tuple = get_tokens_types_avg_std(tokens_array_hour, types_array_hour)\n",
    "\n",
    "tokens_hour_avg = avg_std_hour_tuple[0]\n",
    "tokens_hour_std = avg_std_hour_tuple[1]\n",
    "types_hour_avg = avg_std_hour_tuple[2]\n",
    "types_hour_std = avg_std_hour_tuple[3]"
   ]
  },
  {
   "cell_type": "markdown",
   "metadata": {},
   "source": [
    "Day"
   ]
  },
  {
   "cell_type": "code",
   "execution_count": 17,
   "metadata": {},
   "outputs": [],
   "source": [
    "twitter_day_path = \"../hashtags_frequency_day/\"\n",
    "files_day = get_zipped_files(twitter_day_path, \".gz\")\n",
    "num_of_files = len(files_day)"
   ]
  },
  {
   "cell_type": "code",
   "execution_count": 18,
   "metadata": {},
   "outputs": [],
   "source": [
    "path_in = '../output/Cumulative/day/'\n",
    "\n",
    "start_list = list(range(0, num_of_files - 16, 40))\n",
    "given_intervals = np.concatenate(([0], np.power(2, [0, 1, 2, 3, 4])))\n",
    "\n",
    "token_type_tuple_day = get_token_type_array(path_in, start_list, given_intervals)\n",
    "\n",
    "tokens_array_day = token_type_tuple_day[0]\n",
    "types_array_day = token_type_tuple_day[1]\n",
    "\n",
    "types_day_avg = []\n",
    "tokens_day_avg = []\n",
    "\n",
    "types_day_std = []\n",
    "tokens_day_std = []\n",
    "\n",
    "for i in range(types_array_day.shape[1]): # iterating over columns\n",
    "    types_day_avg.append(np.mean(types_array_day[:,i]))\n",
    "    tokens_day_avg.append(np.mean(tokens_array_day[:,i]))\n",
    "    types_day_std.append(np.std(types_array_day[:,i], ddof=1))\n",
    "    tokens_day_std.append(np.std(tokens_array_day[:,i], ddof=1))"
   ]
  },
  {
   "cell_type": "code",
   "execution_count": 19,
   "metadata": {},
   "outputs": [],
   "source": [
    "combined_tokens_avg = tokens_min_avg + tokens_day_avg\n",
    "combined_types_avg = types_min_avg + types_day_avg\n",
    "\n",
    "combined_tokens_std = tokens_min_std + tokens_day_std\n",
    "combined_types_std = types_min_std + types_day_std \n",
    "\n",
    "coef = np.polyfit(np.log10(combined_tokens_avg), np.log10(combined_types_avg), 1) #0th element = slope, 1st element = intercept\n",
    "plot_y = 10 ** coef[1] * combined_tokens_avg ** coef[0]"
   ]
  },
  {
   "cell_type": "markdown",
   "metadata": {},
   "source": [
    "  "
   ]
  },
  {
   "cell_type": "markdown",
   "metadata": {},
   "source": [
    "Taylor's Law"
   ]
  },
  {
   "cell_type": "markdown",
   "metadata": {},
   "source": [
    "Fitting a linear regression to find exponent in Taylor's Law"
   ]
  },
  {
   "cell_type": "code",
   "execution_count": 27,
   "metadata": {},
   "outputs": [
    {
     "name": "stdout",
     "output_type": "stream",
     "text": [
      "slope:  0.8352153750682361 , intercept:  0.354535610321173\n"
     ]
    }
   ],
   "source": [
    "coef_Taylor = np.polyfit(np.log10(combined_tokens_avg), np.log10(combined_tokens_std), 1) #ind 0  = slope, ind 1 = intercept\n",
    "plot_y_Taylor = 10 ** coef_Taylor[1] * combined_tokens_avg ** coef_Taylor[0]\n",
    "print(\"slope: \", coef_Taylor[0], \", intercept: \", coef_Taylor[1])"
   ]
  },
  {
   "cell_type": "markdown",
   "metadata": {},
   "source": [
    "  "
   ]
  },
  {
   "cell_type": "markdown",
   "metadata": {},
   "source": [
    "# After randomisation/shuffling"
   ]
  },
  {
   "cell_type": "code",
   "execution_count": 28,
   "metadata": {},
   "outputs": [],
   "source": [
    "def get_token_type_array_rand(path, N, given_intervals):\n",
    "    types_array = np.empty([N, len(given_intervals)-1]) \n",
    "    tokens_array = np.empty([N, len(given_intervals)-1]) \n",
    "    \n",
    "    for i in range(N):\n",
    "        f_in = \"types_tokens_count_start_\" + str(i) + \".txt\"\n",
    "        f = open(path + f_in, \"r\")\n",
    "        contents = f.read()\n",
    "        f.close()\n",
    "\n",
    "        res_list_temp = contents.split(\"\\n\")\n",
    "\n",
    "        for j in range(len(res_list_temp)-1): # last element is empty, we cannot split it by \",\"\n",
    "            split_result = res_list_temp[j].split(\",\")\n",
    "            types_array[i, j]  = int(split_result[0])\n",
    "            tokens_array[i, j] = int(split_result[1])\n",
    "            \n",
    "    return((tokens_array, types_array))"
   ]
  },
  {
   "cell_type": "code",
   "execution_count": 30,
   "metadata": {},
   "outputs": [],
   "source": [
    "path_min = '../output/Random_Cumulative/min/'\n",
    "path_hour = '../output/Random_Cumulative/hour/'\n",
    "path_day = '../output/Random_Cumulative/day/'\n",
    "\n",
    "N = 10\n",
    "\n",
    "given_intervals_min = np.concatenate(([0], np.power(2, range(0, 12)))) \n",
    "given_intervals_hour = np.concatenate(([0], np.power(2, range(0, 11))))\n",
    "given_intervals_day = np.concatenate(([0], np.power(2, range(0, 9))))                                    "
   ]
  },
  {
   "cell_type": "markdown",
   "metadata": {},
   "source": [
    "Minute"
   ]
  },
  {
   "cell_type": "code",
   "execution_count": 31,
   "metadata": {},
   "outputs": [],
   "source": [
    "token_type_tuple_min_rand = get_token_type_array_rand(path_min, N, given_intervals_min)\n",
    "\n",
    "tokens_array_min_rand = token_type_tuple_min_rand[0]\n",
    "types_array_min_rand = token_type_tuple_min_rand[1]\n",
    "\n",
    "avg_std_min_rand_tuple = get_tokens_types_avg_std(tokens_array_min_rand, types_array_min_rand)\n",
    "\n",
    "tokens_min_avg_rand = avg_std_min_rand_tuple[0]\n",
    "tokens_min_std_rand = avg_std_min_rand_tuple[1]\n",
    "types_min_avg_rand = avg_std_min_rand_tuple[2]\n",
    "types_min_std_rand = avg_std_min_rand_tuple[3]"
   ]
  },
  {
   "cell_type": "markdown",
   "metadata": {},
   "source": [
    "Hour"
   ]
  },
  {
   "cell_type": "code",
   "execution_count": 35,
   "metadata": {},
   "outputs": [],
   "source": [
    "token_type_tuple_hour_rand = get_token_type_array_rand(path_hour, N, given_intervals_hour)\n",
    "\n",
    "tokens_array_hour_rand = token_type_tuple_hour_rand[0]\n",
    "types_array_hour_rand = token_type_tuple_hour_rand[1]\n",
    "\n",
    "avg_std_hour_rand_tuple = get_tokens_types_avg_std(tokens_array_hour_rand, types_array_hour_rand)\n",
    "\n",
    "tokens_hour_avg_rand = avg_std_hour_rand_tuple[0]\n",
    "tokens_hour_std_rand = avg_std_hour_rand_tuple[1]\n",
    "types_hour_avg_rand = avg_std_hour_rand_tuple[2]\n",
    "types_hour_std_rand = avg_std_hour_rand_tuple[3]"
   ]
  },
  {
   "cell_type": "markdown",
   "metadata": {},
   "source": [
    "Day"
   ]
  },
  {
   "cell_type": "code",
   "execution_count": 39,
   "metadata": {},
   "outputs": [],
   "source": [
    "token_type_tuple_day_rand = get_token_type_array_rand(path_day, N, given_intervals_day)\n",
    "\n",
    "tokens_array_day_rand = token_type_tuple_day_rand[0]\n",
    "types_array_day_rand = token_type_tuple_day_rand[1]\n",
    "\n",
    "avg_std_day_rand_tuple = get_tokens_types_avg_std(tokens_array_day_rand, types_array_day_rand)\n",
    "\n",
    "tokens_day_avg_rand = avg_std_day_rand_tuple[0]\n",
    "tokens_day_std_rand = avg_std_day_rand_tuple[1]\n",
    "types_day_avg_rand = avg_std_day_rand_tuple[2]\n",
    "types_day_std_rand = avg_std_day_rand_tuple[3]"
   ]
  },
  {
   "cell_type": "markdown",
   "metadata": {},
   "source": [
    "# Heap's Law (Randomised)"
   ]
  },
  {
   "cell_type": "code",
   "execution_count": 44,
   "metadata": {},
   "outputs": [
    {
     "name": "stdout",
     "output_type": "stream",
     "text": [
      "slope:  0.7407046004440984 , intercept:  0.8111923475634897\n"
     ]
    }
   ],
   "source": [
    "combined_tokens_avg_rand = tokens_min_avg_rand + tokens_hour_avg_rand[6:]\n",
    "combined_types_avg_rand = types_min_avg_rand + types_hour_avg_rand[6:]\n",
    "\n",
    "combined_tokens_std_rand = tokens_min_std_rand + tokens_hour_std_rand[6:]\n",
    "combined_types_std_rand = types_min_std_rand + types_hour_std_rand[6:]\n",
    "\n",
    "coef_rand = np.polyfit(np.log10(combined_tokens_avg_rand), np.log10(combined_types_avg_rand), 1)\n",
    "plot_y_rand = 10 ** coef_rand[1] * combined_tokens_avg_rand ** coef_rand[0]"
   ]
  },
  {
   "cell_type": "code",
   "execution_count": 47,
   "metadata": {},
   "outputs": [
    {
     "data": {
      "image/png": "[encoded data removed]",
      "text/plain": [
       "<Figure size 432x288 with 1 Axes>"
      ]
     },
     "metadata": {
      "needs_background": "light"
     },
     "output_type": "display_data"
    }
   ],
   "source": [
    "plt.plot(combined_tokens_avg, plot_Heaps_upper, \"--\", color = \"black\", label = r\"$\\lambda$=1\") # Slope = 1\n",
    "\n",
    "plt.errorbar(combined_tokens_avg_rand, combined_types_avg_rand, xerr = combined_tokens_std_rand, yerr = combined_types_std_rand, \n",
    "             color = \"gray\")\n",
    "plt.errorbar(combined_tokens_avg, combined_types_avg, xerr = combined_tokens_std, yerr = combined_types_std, color = \"gray\")\n",
    "\n",
    "plt.plot(combined_tokens_avg_rand, combined_types_avg_rand, \"r-o\", label = r\"Shuffled. $\\lambda$=\"+str(round(coef_rand[0], 2)))\n",
    "plt.plot(combined_tokens_avg, combined_types_avg, 'b-s', label = r\"Observed. $\\lambda$=\" + str(round(coef[0], 2)))\n",
    "\n",
    "plt.plot(combined_tokens_avg, plot_y, '--', color = \"blue\")           # Line of Best Fit\n",
    "plt.plot(combined_tokens_avg_rand, plot_y_rand, \"--\", color = \"red\")  # Line of Best Fit\n",
    "\n",
    "plt.xlabel(r\"$\\mu_M$ (tokens)\", fontsize = 14)\n",
    "plt.ylabel(r\"$\\mu_N$ (types)\", fontsize = 14)\n",
    "plt.legend(frameon = False)\n",
    "plt.loglog()\n",
    "plt.xlim(6500, 385000000)\n",
    "plt.ylim(2900, 10**7)\n",
    "plt.tight_layout()\n",
    "plt.show()"
   ]
  },
  {
   "cell_type": "markdown",
   "metadata": {},
   "source": [
    "# Taylor's Law (Randomised)"
   ]
  },
  {
   "cell_type": "code",
   "execution_count": 50,
   "metadata": {},
   "outputs": [
    {
     "name": "stdout",
     "output_type": "stream",
     "text": [
      "slope:  0.6030643408556747 , intercept:  0.9677504604784899\n"
     ]
    }
   ],
   "source": [
    "shift_tokens = 10 ** (np.log(tokens_min_std_rand[-1])/np.log(tokens_day_std_rand[0]))\n",
    "\n",
    "combined_avg_tokens_rand = tokens_min_avg_rand + tokens_day_avg_rand[2:-1]\n",
    "combined_std_tokens_rand = tokens_min_std_rand + list(np.array(tokens_day_std_rand[2:-1])/shift_tokens)\n",
    "\n",
    "coef_Taylor_rand = np.polyfit(np.log10(combined_avg_tokens_rand), np.log10(combined_std_tokens_rand), 1)\n",
    "plot_y_Taylor_rand = 10 ** coef_Taylor_rand[1] * combined_avg_tokens_rand ** coef_Taylor_rand[0]"
   ]
  },
  {
   "cell_type": "code",
   "execution_count": 52,
   "metadata": {},
   "outputs": [
    {
     "data": {
      "image/png": "[encoded data removed]",
      "text/plain": [
       "<Figure size 432x288 with 1 Axes>"
      ]
     },
     "metadata": {
      "needs_background": "light"
     },
     "output_type": "display_data"
    }
   ],
   "source": [
    "plot_y_lower = 10 ** coef_Taylor_rand[1] * np.array(combined_avg_tokens_rand) ** 0.5 # Two extreme slopes\n",
    "plot_y_upper = 0.1 * (10 ** coef_Taylor_rand[1] * np.array(combined_avg_tokens_rand) ** 1)\n",
    "\n",
    "plt.plot(combined_avg_tokens_rand, plot_y_upper, \"--\", color = \"grey\",label=r\"$\\beta$=1\")\n",
    "plt.plot(combined_tokens_avg, combined_tokens_std, 's-b', label = r\"Observed. $\\beta$=\" + str(round(coef_Taylor[0], 2)))\n",
    "plt.plot(combined_avg_tokens_rand, combined_std_tokens_rand, \"o-r\", label = r\"Shuffled. $\\beta$=\"+ str('{:.2f}'.format(round(coef_Taylor_rand[0], 2))))\n",
    "plt.plot(combined_avg_tokens_rand, plot_y_Taylor_rand, \"--r\")\n",
    "plt.plot(combined_tokens_avg, plot_y_Taylor, '--b')\n",
    "plt.plot(combined_avg_tokens_rand, plot_y_lower, \"-\", color = \"grey\", label = r\"$\\beta$=0.5\")\n",
    "plt.loglog()\n",
    "plt.xlabel(r\"$\\mu_M$ - Mean tokens\", fontsize = 14)\n",
    "plt.ylabel(r\"$\\sigma_M$ - Fluctuation tokens\", fontsize = 14)\n",
    "plt.legend(frameon = False)\n",
    "plt.tight_layout()\n",
    "plt.show()"
   ]
  }
 ],
 "metadata": {
  "kernelspec": {
   "display_name": "Python 3",
   "language": "python",
   "name": "python3"
  },
  "language_info": {
   "codemirror_mode": {
    "name": "ipython",
    "version": 3
   },
   "file_extension": ".py",
   "mimetype": "text/x-python",
   "name": "python",
   "nbconvert_exporter": "python",
   "pygments_lexer": "ipython3",
   "version": "3.6.9"
  }
 },
 "nbformat": 4,
 "nbformat_minor": 2
}
