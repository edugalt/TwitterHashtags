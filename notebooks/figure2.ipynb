{
 "cells": [
  {
   "cell_type": "markdown",
   "metadata": {},
   "source": [
    "# Figure 2\n",
    "\n",
    "The data needed to reproduce this figure is computed from the raw data by running the \"aggregate_data.ipynb\" notebook. The parameters of the analysis of Zipf's law are computed from the notebook \"model_fitting.ipynb\". We also overlay some daily data that is found on Zenodo and fitted lines that arise from running the model_fitting notebook. The Figure 2 bottom panel is computed using the accumulated data in the \"Data\" folder."
   ]
  },
  {
   "cell_type": "code",
   "execution_count": 1,
   "metadata": {},
   "outputs": [],
   "source": [
    "import os, sys, codecs\n",
    "import numpy as np\n",
    "import pylab as plt\n",
    "%matplotlib inline\n",
    "%load_ext autoreload\n",
    "%autoreload 2\n",
    "\n",
    "import matplotlib.cm as cm\n",
    "import gzip\n",
    "import pandas as pd\n",
    "import ast"
   ]
  },
  {
   "cell_type": "code",
   "execution_count": 2,
   "metadata": {},
   "outputs": [],
   "source": [
    "sys.path.append(os.path.abspath(os.path.join(os.pardir,'src')))\n",
    "\n",
    "from modules_distributor import fit\n",
    "from modules_fitting_lognormal import *\n",
    "from general import *"
   ]
  },
  {
   "cell_type": "markdown",
   "metadata": {},
   "source": [
    "Reading in the combined data"
   ]
  },
  {
   "cell_type": "code",
   "execution_count": 3,
   "metadata": {},
   "outputs": [],
   "source": [
    "path = \"../Data/\"\n",
    "fout_name = 'combined_data' # name of the output file\n",
    "\n",
    "f = open(path + fout_name + \".csv.gz\", \"r\")\n",
    "contents = f.read()\n",
    "f.close()    \n",
    "\n",
    "res_list_temp = contents.split(\"\\n\")"
   ]
  },
  {
   "cell_type": "code",
   "execution_count": 4,
   "metadata": {},
   "outputs": [],
   "source": [
    "all_hashtags = []\n",
    "all_counts = []\n",
    "\n",
    "for i in range(len(res_list_temp)-1): # last element is empty, we cannot split it by \",\"\n",
    "\n",
    "    split_result = res_list_temp[i].split(\",\")\n",
    "    all_hashtags.append(split_result[0])\n",
    "    all_counts.append(int(split_result[1]))"
   ]
  },
  {
   "cell_type": "markdown",
   "metadata": {},
   "source": [
    "# Plotting the rank-frequency distribution"
   ]
  },
  {
   "cell_type": "code",
   "execution_count": 6,
   "metadata": {},
   "outputs": [],
   "source": [
    "arr_r = np.arange(len(all_hashtags)) + 1\n",
    "arr_count = np.sort(all_counts)[::-1]\n",
    "arr_f = arr_count/sum(all_counts)"
   ]
  },
  {
   "cell_type": "markdown",
   "metadata": {},
   "source": [
    "It is too expensive to plot ~58 million points. For the hashtags that aren't used often (determined by target_num), we find the index of when they first and last occur. Then connect the two points with a line."
   ]
  },
  {
   "cell_type": "code",
   "execution_count": 7,
   "metadata": {},
   "outputs": [],
   "source": [
    "target_num = 100\n",
    "\n",
    "index_occ = []\n",
    "freq_temp = []\n",
    "\n",
    "for i in range(target_num, 0, -1):\n",
    "    index_occ.append(np.where(arr_count == i)[0][0]) #start\n",
    "    freq_temp.append(i/sum(all_counts))\n",
    "    \n",
    "    if (not i == 1): #we do the case i = 1 manually in the next segment\n",
    "        index_occ.append(np.where(arr_count == i - 1)[0][0] - 1) #end\n",
    "        freq_temp.append(i/sum(all_counts))"
   ]
  },
  {
   "cell_type": "code",
   "execution_count": 8,
   "metadata": {},
   "outputs": [],
   "source": [
    "# We also have to add on when the data ends. the last hashtag with 1 occurence. (print freq_temp if this isn't clear)\n",
    "index_occ.append(len(all_counts))\n",
    "freq_temp.append(1/sum(all_counts))"
   ]
  },
  {
   "cell_type": "code",
   "execution_count": 9,
   "metadata": {},
   "outputs": [],
   "source": [
    "# Combining the indvidual points of highly used hashtags with what we did above\n",
    "plot_x = np.concatenate([arr_r[:int(np.where(arr_count == target_num)[0][0])], np.asarray(index_occ)])\n",
    "plot_y = np.concatenate([arr_f[:int(np.where(arr_count == target_num)[0][0])], np.asarray(freq_temp)])"
   ]
  },
  {
   "cell_type": "markdown",
   "metadata": {},
   "source": [
    "Using the predicted rank-frequncy distributions using the models fitted in model_fitting.ipynb.\n",
    "The fitted results such as parameteres and log likelihoods is now in the \"output\" folder."
   ]
  },
  {
   "cell_type": "code",
   "execution_count": 10,
   "metadata": {},
   "outputs": [],
   "source": [
    "fitted_path = \"../output/\"\n",
    "fitted_file = \"combined_data-nrep10.txt\""
   ]
  },
  {
   "cell_type": "code",
   "execution_count": 11,
   "metadata": {},
   "outputs": [],
   "source": [
    "results_list = get_fitted_data(fitted_path, fitted_file)"
   ]
  },
  {
   "cell_type": "markdown",
   "metadata": {},
   "source": [
    "| Model         | Param estimates              |  Negative Log Lik/$M$    |\n",
    "|---------------|------------------------------|--------------------------|\n",
    "|Simple         |   1.1122                     |    11.5438               |\n",
    "|Double PL      |   1.57, 352288.8             |    11.1859               |\n",
    "|Log-normal     |   8.25, 3.8327               |    11.0753               |\n",
    "|Naranan        |   1.156, 5.0930              |    11.3472               |\n",
    "|Exp Cutoff     |   0.9605, 1.1146             |    11.1954               |\n",
    "|Weibull        |   -0.2416, 4.51307           |    12.1747               |\n",
    "|Shifted        |   1.24855, 119.765           |    11.2051               |\n",
    "|Double Gamma   |   0.8083, 1.4079, 18145.1    |    11.0912               |"
   ]
  },
  {
   "cell_type": "markdown",
   "metadata": {},
   "source": [
    "Parameters are given in the order found in Table I of the paper. For most models, we have $\\gamma$ followed by $b$. For the log-normal model, we have $m$ followed by $s$ and for the double gamma model, the order is $\\gamma_1$, $\\gamma_2$ and $b$ ."
   ]
  },
  {
   "cell_type": "code",
   "execution_count": 12,
   "metadata": {},
   "outputs": [],
   "source": [
    "simple_gamma = results_list[0][0][0]\n",
    "\n",
    "lognormal_mu = results_list[2][0][0]\n",
    "lognormal_sigma = results_list[2][0][1]\n",
    "\n",
    "rmin_fit = 1\n",
    "rmax_fit = np.Inf # used when fitting"
   ]
  },
  {
   "cell_type": "code",
   "execution_count": 15,
   "metadata": {},
   "outputs": [],
   "source": [
    "C = 1/np.sum(np.power(arr_r, -simple_gamma)) #normalizing constant for the simple model\n",
    "arr_f_fit_simple = C/plot_x ** simple_gamma\n",
    "arr_f_fit_lognormal = pdf_lognormal_disc(plot_x, rmin_fit, rmax_fit, lognormal_mu, lognormal_sigma)"
   ]
  },
  {
   "cell_type": "code",
   "execution_count": 16,
   "metadata": {},
   "outputs": [],
   "source": [
    "day_path = \"../hashtags_frequency_day/\"\n",
    "day_files = sorted(get_zipped_files(day_path, \".gz\"))"
   ]
  },
  {
   "cell_type": "code",
   "execution_count": 31,
   "metadata": {},
   "outputs": [
    {
     "data": {
      "image/png": "[encoded data removed]",
      "text/plain": [
       "<Figure size 504x360 with 2 Axes>"
      ]
     },
     "metadata": {
      "needs_background": "light"
     },
     "output_type": "display_data"
    }
   ],
   "source": [
    "params = {'figure.figsize': [7, 5]}\n",
    "\n",
    "plt.rcParams.update(params)\n",
    "\n",
    "fig, ax1 = plt.subplots()\n",
    "\n",
    "# These are in unitless percentages of the figure size. (0,0 is bottom left)\n",
    "left, bottom, width, height = [0.2, 0.2, 0.4, 0.4]\n",
    "ax2 = fig.add_axes([left, bottom, width, height])\n",
    "\n",
    "for i in range(0, 30): # only 30 daily plots\n",
    "    res_temp = get_data(day_path, day_files[i], \"day\")\n",
    "\n",
    "    hashtags = list(res_temp.keys())\n",
    "    counts = list(res_temp.values())\n",
    "    \n",
    "    if (len(hashtags)) == 0 or  len(hashtags) < 400000: # corrupted files\n",
    "        pass\n",
    "    else:\n",
    "        arr_r = np.arange(len(counts)) + 1\n",
    "        arr_f = np.sort(counts)[::-1]/float(np.sum(counts))\n",
    "        \n",
    "        plot_r = arr_r[:100] # plot only the top 10 ranks in inset\n",
    "        plot_f = arr_f[:100]\n",
    "\n",
    "        if i == 0:\n",
    "            ax1.plot(arr_r, arr_f, linestyle = \":\", label = \"Day data\")\n",
    "        else:\n",
    "            ax1.plot(arr_r, arr_f, linestyle = \":\")\n",
    "            \n",
    "        ax2.plot(plot_r, plot_f)\n",
    "        ax2.loglog()\n",
    "\n",
    "ax1.plot(plot_x, plot_y, label = 'All data', color = \"black\", marker = \"o\", markersize = 5)\n",
    "ax1.plot(plot_x, arr_f_fit_simple, \"-.\", label = 'Simple', color = \"blue\", linewidth = 2) \n",
    "ax1.plot(plot_x, arr_f_fit_lognormal, \"--\", label = 'Log normal', color = \"red\", linewidth = 2)\n",
    "\n",
    "ax2.plot(plot_x[:100], plot_y[:100], color = \"black\", marker = \"o\", markersize = 5)\n",
    "ax2.plot(plot_x[:100], arr_f_fit_simple[:100], \"-.\", label = 'Simple', color = \"blue\", linewidth = 2) \n",
    "ax2.plot(plot_x[:100], arr_f_fit_lognormal[:100], \"--\", label = 'Log normal', color = \"red\", linewidth = 2)\n",
    "\n",
    "ax1.loglog()\n",
    "ax1.legend(loc = \"upper right\", frameon = False, prop={'size': 11})\n",
    "ax1.set_xlabel(r'$r$' + \" - Hashtag Rank\", fontsize = 13)\n",
    "ax1.set_ylabel(r'$F_r$' + \" - Hashtag Frequency\", fontsize = 13)\n",
    "ax1.text(100, 3 * 10e-3, \"(a)\", fontsize = 12)\n",
    "ax1.set_xlim(1, max(plot_x) * 1.2)\n",
    "\n",
    "ax2.spines['right'].set_visible(False)\n",
    "ax2.spines['top'].set_visible(False)\n",
    "\n",
    "ax2.yaxis.set_ticks_position('left')\n",
    "ax2.xaxis.set_ticks_position('bottom')\n",
    "\n",
    "ax2.patch.set_alpha(0.0) #transparent background for inset\n",
    "\n",
    "plt.show()\n",
    "fig = plt.gcf()\n",
    "size = fig.get_size_inches()"
   ]
  },
  {
   "cell_type": "markdown",
   "metadata": {},
   "source": [
    "We have ~58 million unique hashtags. i.e: hashtag types."
   ]
  },
  {
   "cell_type": "code",
   "execution_count": 20,
   "metadata": {},
   "outputs": [
    {
     "data": {
      "text/plain": [
       "57876308"
      ]
     },
     "execution_count": 20,
     "metadata": {},
     "output_type": "execute_result"
    }
   ],
   "source": [
    "max(plot_x)"
   ]
  },
  {
   "cell_type": "markdown",
   "metadata": {},
   "source": [
    "How does the parameter varies for different bin sizes for the log-normal model?"
   ]
  },
  {
   "cell_type": "code",
   "execution_count": 3,
   "metadata": {},
   "outputs": [],
   "source": [
    "fitted_path = '../output/Cumulative/Zipf_fitted/'\n",
    "list_of_files = []\n",
    "\n",
    "for file in os.listdir(fitted_path):\n",
    "    if file.endswith(\"_cum-nrep2.txt\"): # replace with higher repetition if avaliable\n",
    "        list_of_files.append(file)"
   ]
  },
  {
   "cell_type": "code",
   "execution_count": 15,
   "metadata": {},
   "outputs": [],
   "source": [
    "lognormal_m = []\n",
    "lognormal_s = []"
   ]
  },
  {
   "cell_type": "code",
   "execution_count": 16,
   "metadata": {},
   "outputs": [],
   "source": [
    "for file in list_of_files:\n",
    "    results_list = get_fitted_data(fitted_path, file)  \n",
    "    lognormal_results = results_list[2]\n",
    "    \n",
    "    if (lognormal_results[1]) == 0: # corrupted files and non-convergent results\n",
    "        lognormal_m.append(None)\n",
    "        lognormal_s.append(None)\n",
    "    else:\n",
    "        lognormal_m.append(lognormal_results[0][0])\n",
    "        lognormal_s.append(lognormal_results[0][1])"
   ]
  },
  {
   "cell_type": "code",
   "execution_count": 17,
   "metadata": {},
   "outputs": [
    {
     "data": {
      "text/plain": [
       "[6.387406231145541,\n",
       " 6.3299767249970795,\n",
       " 6.865664471675445,\n",
       " 7.383685220878777,\n",
       " 7.182917132909406,\n",
       " 6.7883737271299776,\n",
       " 7.043047788073785,\n",
       " 7.535608740847245,\n",
       " 8.02563271562456,\n",
       " 8.249493929866771]"
      ]
     },
     "execution_count": 17,
     "metadata": {},
     "output_type": "execute_result"
    }
   ],
   "source": [
    "lognormal_m"
   ]
  },
  {
   "cell_type": "code",
   "execution_count": 18,
   "metadata": {},
   "outputs": [
    {
     "data": {
      "text/plain": [
       "[3.864944906638473,\n",
       " 4.070659196215368,\n",
       " 3.9001750009469562,\n",
       " 3.6373637532297556,\n",
       " 3.826605606884474,\n",
       " 4.254770750897561,\n",
       " 4.260230190653147,\n",
       " 4.078695978450361,\n",
       " 3.91949621871857,\n",
       " 3.832717580455707]"
      ]
     },
     "execution_count": 18,
     "metadata": {},
     "output_type": "execute_result"
    }
   ],
   "source": [
    "lognormal_s"
   ]
  },
  {
   "cell_type": "code",
   "execution_count": 23,
   "metadata": {},
   "outputs": [
    {
     "data": {
      "image/png": "[encoded data removed]",
      "text/plain": [
       "<Figure size 504x288 with 2 Axes>"
      ]
     },
     "metadata": {
      "needs_background": "light"
     },
     "output_type": "display_data"
    }
   ],
   "source": [
    "given_intervals_temp = np.power(2, [0, 1, 2, 3, 4, 5, 6, 7, 8])\n",
    "given_intervals = np.concatenate(([0], given_intervals_temp, [392]))\n",
    "\n",
    "params = {'figure.figsize': [7, 4]}\n",
    "\n",
    "plt.rcParams.update(params)\n",
    "fig = plt.figure()\n",
    "\n",
    "plt.subplot(2, 1, 1)\n",
    "\n",
    "plt.plot(given_intervals[1:], lognormal_m, \"o--\", color = \"red\", label = r\"$m$\")\n",
    "plt.xscale(\"log\")\n",
    "plt.xticks([])\n",
    "plt.ylabel(r\"$m$\", fontsize = 14)\n",
    "plt.text(0.9, 7.9, \"(b)\", fontsize = 12)\n",
    "\n",
    "plt.subplot(2, 1, 2)\n",
    "plt.plot(given_intervals[1:], lognormal_s, \"o--\", color = \"green\", label = r\"$\\sigma$\")\n",
    "plt.yticks([3.5, 4.5], [3.5, 4.5])\n",
    "plt.ylabel(r\"$s$\", fontsize = 14)\n",
    "plt.xscale(\"log\")\n",
    "plt.text(0.9, 4.25, \"(c)\", fontsize = 12)\n",
    "\n",
    "plt.xlabel(r\"$b$ - Time interval (days)\", fontsize = 14)\n",
    "plt.tight_layout()\n",
    "plt.show()"
   ]
  }
 ],
 "metadata": {
  "kernelspec": {
   "display_name": "Python 3",
   "language": "python",
   "name": "python3"
  },
  "language_info": {
   "codemirror_mode": {
    "name": "ipython",
    "version": 3
   },
   "file_extension": ".py",
   "mimetype": "text/x-python",
   "name": "python",
   "nbconvert_exporter": "python",
   "pygments_lexer": "ipython3",
   "version": "3.6.9"
  }
 },
 "nbformat": 4,
 "nbformat_minor": 2
}
